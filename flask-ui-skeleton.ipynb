{
 "cells": [
  {
   "cell_type": "markdown",
   "metadata": {},
   "source": [
    "# Capstone Project Flask UI"
   ]
  },
  {
   "cell_type": "markdown",
   "metadata": {},
   "source": [
    "Pada capstone ini anda diminta untuk membangun sebuah Flask UI sederhana yang berisi beberapa tampilan plot dari skeleton yang sudah disediakan dan satu plot tambahan berdasarkan analisis anda.\n",
    "\n",
    "File ini dapat dimanfaatkan untuk membantu anda dalam proses wrangling dan visualization. Apabila proses wrangling sudah tepat dan hasil visualisasi sudah sesuai dengan ketentuan, anda dapat memindahkan kembali kode program yang sudah anda lengkapi ke dalam file `app.py`."
   ]
  },
  {
   "cell_type": "markdown",
   "metadata": {},
   "source": [
    "## Create Virtual Enviroment "
   ]
  },
  {
   "cell_type": "markdown",
   "metadata": {},
   "source": [
    "a. Created virtual environment called \"capstone-flask\"\n",
    "\n",
    "Hal pertama yang harus dilakukan adalah melakukan pengaturan environment conda. Untuk menyiapkan conda environment dan kernel, silahkan gunakan command berikut:\n",
    "\n",
    "```\n",
    "conda create -n <ENV_NAME> python=3.10\n",
    "conda activate <ENV_NAME>\n",
    "\n",
    "conda install ipykernel\n",
    "python -m ipykernel install --user --name <ENV_NAME>\n",
    "```\n",
    "\n",
    "b. Install packages: pandas, flask, matplotlib, dan numpy\n",
    "\n",
    "Seluruh dependecies telah di-export ke dalam file requirements.txt. Oleh karena itu untuk melakukan install packages, Anda dapat menggunakan perintah berikut:\n",
    "\n",
    "```\n",
    "pip install -r requirements.txt --user\n",
    "```"
   ]
  },
  {
   "cell_type": "markdown",
   "metadata": {},
   "source": [
    "## Data Preprocessing"
   ]
  },
  {
   "cell_type": "markdown",
   "metadata": {},
   "source": [
    "**Import library**"
   ]
  },
  {
   "cell_type": "code",
   "execution_count": 60,
   "metadata": {
    "ExecuteTime": {
     "end_time": "2021-02-02T09:56:05.789070Z",
     "start_time": "2021-02-02T09:56:03.554294Z"
    }
   },
   "outputs": [],
   "source": [
    "from flask import Flask, render_template\n",
    "import pandas as pd\n",
    "import numpy as np\n",
    "import matplotlib.pyplot as plt\n",
    "from io import BytesIO\n",
    "import base64"
   ]
  },
  {
   "cell_type": "markdown",
   "metadata": {},
   "source": [
    "**Load data**\n",
    "\n",
    "Bacalah file `googleplaystore.csv` data dan simpan ke objek dataframe dengan nama playstore"
   ]
  },
  {
   "cell_type": "code",
   "execution_count": 61,
   "metadata": {
    "ExecuteTime": {
     "end_time": "2021-02-02T09:59:28.086254Z",
     "start_time": "2021-02-02T09:59:28.032673Z"
    },
    "scrolled": true
   },
   "outputs": [
    {
     "data": {
      "text/html": [
       "<div>\n",
       "<style scoped>\n",
       "    .dataframe tbody tr th:only-of-type {\n",
       "        vertical-align: middle;\n",
       "    }\n",
       "\n",
       "    .dataframe tbody tr th {\n",
       "        vertical-align: top;\n",
       "    }\n",
       "\n",
       "    .dataframe thead th {\n",
       "        text-align: right;\n",
       "    }\n",
       "</style>\n",
       "<table border=\"1\" class=\"dataframe\">\n",
       "  <thead>\n",
       "    <tr style=\"text-align: right;\">\n",
       "      <th></th>\n",
       "      <th>App</th>\n",
       "      <th>Category</th>\n",
       "      <th>Rating</th>\n",
       "      <th>Reviews</th>\n",
       "      <th>Size</th>\n",
       "      <th>Installs</th>\n",
       "      <th>Type</th>\n",
       "      <th>Price</th>\n",
       "      <th>Content Rating</th>\n",
       "      <th>Genres</th>\n",
       "      <th>Last Updated</th>\n",
       "      <th>Current Ver</th>\n",
       "      <th>Android Ver</th>\n",
       "    </tr>\n",
       "  </thead>\n",
       "  <tbody>\n",
       "    <tr>\n",
       "      <th>0</th>\n",
       "      <td>Photo Editor &amp; Candy Camera &amp; Grid &amp; ScrapBook</td>\n",
       "      <td>ART_AND_DESIGN</td>\n",
       "      <td>4.1</td>\n",
       "      <td>159</td>\n",
       "      <td>19M</td>\n",
       "      <td>10,000+</td>\n",
       "      <td>Free</td>\n",
       "      <td>0</td>\n",
       "      <td>Everyone</td>\n",
       "      <td>Art &amp; Design</td>\n",
       "      <td>January 7, 2018</td>\n",
       "      <td>1.0.0</td>\n",
       "      <td>4.0.3 and up</td>\n",
       "    </tr>\n",
       "    <tr>\n",
       "      <th>1</th>\n",
       "      <td>Coloring book moana</td>\n",
       "      <td>ART_AND_DESIGN</td>\n",
       "      <td>3.9</td>\n",
       "      <td>967</td>\n",
       "      <td>14M</td>\n",
       "      <td>500,000+</td>\n",
       "      <td>Free</td>\n",
       "      <td>0</td>\n",
       "      <td>Everyone</td>\n",
       "      <td>Art &amp; Design;Pretend Play</td>\n",
       "      <td>January 15, 2018</td>\n",
       "      <td>2.0.0</td>\n",
       "      <td>4.0.3 and up</td>\n",
       "    </tr>\n",
       "    <tr>\n",
       "      <th>2</th>\n",
       "      <td>U Launcher Lite – FREE Live Cool Themes, Hide ...</td>\n",
       "      <td>ART_AND_DESIGN</td>\n",
       "      <td>4.7</td>\n",
       "      <td>87510</td>\n",
       "      <td>8.7M</td>\n",
       "      <td>5,000,000+</td>\n",
       "      <td>Free</td>\n",
       "      <td>0</td>\n",
       "      <td>Everyone</td>\n",
       "      <td>Art &amp; Design</td>\n",
       "      <td>August 1, 2018</td>\n",
       "      <td>1.2.4</td>\n",
       "      <td>4.0.3 and up</td>\n",
       "    </tr>\n",
       "    <tr>\n",
       "      <th>3</th>\n",
       "      <td>Sketch - Draw &amp; Paint</td>\n",
       "      <td>ART_AND_DESIGN</td>\n",
       "      <td>4.5</td>\n",
       "      <td>215644</td>\n",
       "      <td>25M</td>\n",
       "      <td>50,000,000+</td>\n",
       "      <td>Free</td>\n",
       "      <td>0</td>\n",
       "      <td>Teen</td>\n",
       "      <td>Art &amp; Design</td>\n",
       "      <td>June 8, 2018</td>\n",
       "      <td>Varies with device</td>\n",
       "      <td>4.2 and up</td>\n",
       "    </tr>\n",
       "    <tr>\n",
       "      <th>4</th>\n",
       "      <td>Pixel Draw - Number Art Coloring Book</td>\n",
       "      <td>ART_AND_DESIGN</td>\n",
       "      <td>4.3</td>\n",
       "      <td>967</td>\n",
       "      <td>2.8M</td>\n",
       "      <td>100,000+</td>\n",
       "      <td>Free</td>\n",
       "      <td>0</td>\n",
       "      <td>Everyone</td>\n",
       "      <td>Art &amp; Design;Creativity</td>\n",
       "      <td>June 20, 2018</td>\n",
       "      <td>1.1</td>\n",
       "      <td>4.4 and up</td>\n",
       "    </tr>\n",
       "    <tr>\n",
       "      <th>...</th>\n",
       "      <td>...</td>\n",
       "      <td>...</td>\n",
       "      <td>...</td>\n",
       "      <td>...</td>\n",
       "      <td>...</td>\n",
       "      <td>...</td>\n",
       "      <td>...</td>\n",
       "      <td>...</td>\n",
       "      <td>...</td>\n",
       "      <td>...</td>\n",
       "      <td>...</td>\n",
       "      <td>...</td>\n",
       "      <td>...</td>\n",
       "    </tr>\n",
       "    <tr>\n",
       "      <th>10836</th>\n",
       "      <td>Sya9a Maroc - FR</td>\n",
       "      <td>FAMILY</td>\n",
       "      <td>4.5</td>\n",
       "      <td>38</td>\n",
       "      <td>53M</td>\n",
       "      <td>5,000+</td>\n",
       "      <td>Free</td>\n",
       "      <td>0</td>\n",
       "      <td>Everyone</td>\n",
       "      <td>Education</td>\n",
       "      <td>July 25, 2017</td>\n",
       "      <td>1.48</td>\n",
       "      <td>4.1 and up</td>\n",
       "    </tr>\n",
       "    <tr>\n",
       "      <th>10837</th>\n",
       "      <td>Fr. Mike Schmitz Audio Teachings</td>\n",
       "      <td>FAMILY</td>\n",
       "      <td>5.0</td>\n",
       "      <td>4</td>\n",
       "      <td>3.6M</td>\n",
       "      <td>100+</td>\n",
       "      <td>Free</td>\n",
       "      <td>0</td>\n",
       "      <td>Everyone</td>\n",
       "      <td>Education</td>\n",
       "      <td>July 6, 2018</td>\n",
       "      <td>1.0</td>\n",
       "      <td>4.1 and up</td>\n",
       "    </tr>\n",
       "    <tr>\n",
       "      <th>10838</th>\n",
       "      <td>Parkinson Exercices FR</td>\n",
       "      <td>MEDICAL</td>\n",
       "      <td>NaN</td>\n",
       "      <td>3</td>\n",
       "      <td>9.5M</td>\n",
       "      <td>1,000+</td>\n",
       "      <td>Free</td>\n",
       "      <td>0</td>\n",
       "      <td>Everyone</td>\n",
       "      <td>Medical</td>\n",
       "      <td>January 20, 2017</td>\n",
       "      <td>1.0</td>\n",
       "      <td>2.2 and up</td>\n",
       "    </tr>\n",
       "    <tr>\n",
       "      <th>10839</th>\n",
       "      <td>The SCP Foundation DB fr nn5n</td>\n",
       "      <td>BOOKS_AND_REFERENCE</td>\n",
       "      <td>4.5</td>\n",
       "      <td>114</td>\n",
       "      <td>Varies with device</td>\n",
       "      <td>1,000+</td>\n",
       "      <td>Free</td>\n",
       "      <td>0</td>\n",
       "      <td>Mature 17+</td>\n",
       "      <td>Books &amp; Reference</td>\n",
       "      <td>January 19, 2015</td>\n",
       "      <td>Varies with device</td>\n",
       "      <td>Varies with device</td>\n",
       "    </tr>\n",
       "    <tr>\n",
       "      <th>10840</th>\n",
       "      <td>iHoroscope - 2018 Daily Horoscope &amp; Astrology</td>\n",
       "      <td>LIFESTYLE</td>\n",
       "      <td>4.5</td>\n",
       "      <td>398307</td>\n",
       "      <td>19M</td>\n",
       "      <td>10,000,000+</td>\n",
       "      <td>Free</td>\n",
       "      <td>0</td>\n",
       "      <td>Everyone</td>\n",
       "      <td>Lifestyle</td>\n",
       "      <td>July 25, 2018</td>\n",
       "      <td>Varies with device</td>\n",
       "      <td>Varies with device</td>\n",
       "    </tr>\n",
       "  </tbody>\n",
       "</table>\n",
       "<p>10841 rows × 13 columns</p>\n",
       "</div>"
      ],
      "text/plain": [
       "                                                     App             Category  \\\n",
       "0         Photo Editor & Candy Camera & Grid & ScrapBook       ART_AND_DESIGN   \n",
       "1                                    Coloring book moana       ART_AND_DESIGN   \n",
       "2      U Launcher Lite – FREE Live Cool Themes, Hide ...       ART_AND_DESIGN   \n",
       "3                                  Sketch - Draw & Paint       ART_AND_DESIGN   \n",
       "4                  Pixel Draw - Number Art Coloring Book       ART_AND_DESIGN   \n",
       "...                                                  ...                  ...   \n",
       "10836                                   Sya9a Maroc - FR               FAMILY   \n",
       "10837                   Fr. Mike Schmitz Audio Teachings               FAMILY   \n",
       "10838                             Parkinson Exercices FR              MEDICAL   \n",
       "10839                      The SCP Foundation DB fr nn5n  BOOKS_AND_REFERENCE   \n",
       "10840      iHoroscope - 2018 Daily Horoscope & Astrology            LIFESTYLE   \n",
       "\n",
       "       Rating Reviews                Size     Installs  Type Price  \\\n",
       "0         4.1     159                 19M      10,000+  Free     0   \n",
       "1         3.9     967                 14M     500,000+  Free     0   \n",
       "2         4.7   87510                8.7M   5,000,000+  Free     0   \n",
       "3         4.5  215644                 25M  50,000,000+  Free     0   \n",
       "4         4.3     967                2.8M     100,000+  Free     0   \n",
       "...       ...     ...                 ...          ...   ...   ...   \n",
       "10836     4.5      38                 53M       5,000+  Free     0   \n",
       "10837     5.0       4                3.6M         100+  Free     0   \n",
       "10838     NaN       3                9.5M       1,000+  Free     0   \n",
       "10839     4.5     114  Varies with device       1,000+  Free     0   \n",
       "10840     4.5  398307                 19M  10,000,000+  Free     0   \n",
       "\n",
       "      Content Rating                     Genres      Last Updated  \\\n",
       "0           Everyone               Art & Design   January 7, 2018   \n",
       "1           Everyone  Art & Design;Pretend Play  January 15, 2018   \n",
       "2           Everyone               Art & Design    August 1, 2018   \n",
       "3               Teen               Art & Design      June 8, 2018   \n",
       "4           Everyone    Art & Design;Creativity     June 20, 2018   \n",
       "...              ...                        ...               ...   \n",
       "10836       Everyone                  Education     July 25, 2017   \n",
       "10837       Everyone                  Education      July 6, 2018   \n",
       "10838       Everyone                    Medical  January 20, 2017   \n",
       "10839     Mature 17+          Books & Reference  January 19, 2015   \n",
       "10840       Everyone                  Lifestyle     July 25, 2018   \n",
       "\n",
       "              Current Ver         Android Ver  \n",
       "0                   1.0.0        4.0.3 and up  \n",
       "1                   2.0.0        4.0.3 and up  \n",
       "2                   1.2.4        4.0.3 and up  \n",
       "3      Varies with device          4.2 and up  \n",
       "4                     1.1          4.4 and up  \n",
       "...                   ...                 ...  \n",
       "10836                1.48          4.1 and up  \n",
       "10837                 1.0          4.1 and up  \n",
       "10838                 1.0          2.2 and up  \n",
       "10839  Varies with device  Varies with device  \n",
       "10840  Varies with device  Varies with device  \n",
       "\n",
       "[10841 rows x 13 columns]"
      ]
     },
     "execution_count": 61,
     "metadata": {},
     "output_type": "execute_result"
    }
   ],
   "source": [
    "playstore =pd.read_csv(\"data/googleplaystore.csv\")\n",
    "playstore"
   ]
  },
  {
   "cell_type": "code",
   "execution_count": 62,
   "metadata": {
    "scrolled": true
   },
   "outputs": [
    {
     "data": {
      "text/plain": [
       "App                object\n",
       "Category           object\n",
       "Rating            float64\n",
       "Reviews            object\n",
       "Size               object\n",
       "Installs           object\n",
       "Type               object\n",
       "Price              object\n",
       "Content Rating     object\n",
       "Genres             object\n",
       "Last Updated       object\n",
       "Current Ver        object\n",
       "Android Ver        object\n",
       "dtype: object"
      ]
     },
     "execution_count": 62,
     "metadata": {},
     "output_type": "execute_result"
    }
   ],
   "source": [
    "playstore.dtypes"
   ]
  },
  {
   "cell_type": "code",
   "execution_count": 63,
   "metadata": {},
   "outputs": [
    {
     "data": {
      "text/html": [
       "<div>\n",
       "<style scoped>\n",
       "    .dataframe tbody tr th:only-of-type {\n",
       "        vertical-align: middle;\n",
       "    }\n",
       "\n",
       "    .dataframe tbody tr th {\n",
       "        vertical-align: top;\n",
       "    }\n",
       "\n",
       "    .dataframe thead th {\n",
       "        text-align: right;\n",
       "    }\n",
       "</style>\n",
       "<table border=\"1\" class=\"dataframe\">\n",
       "  <thead>\n",
       "    <tr style=\"text-align: right;\">\n",
       "      <th></th>\n",
       "      <th>App</th>\n",
       "      <th>Category</th>\n",
       "      <th>Rating</th>\n",
       "      <th>Reviews</th>\n",
       "      <th>Size</th>\n",
       "      <th>Installs</th>\n",
       "      <th>Type</th>\n",
       "      <th>Price</th>\n",
       "      <th>Content Rating</th>\n",
       "      <th>Genres</th>\n",
       "      <th>Last Updated</th>\n",
       "      <th>Current Ver</th>\n",
       "      <th>Android Ver</th>\n",
       "    </tr>\n",
       "  </thead>\n",
       "  <tbody>\n",
       "    <tr>\n",
       "      <th>0</th>\n",
       "      <td>Photo Editor &amp; Candy Camera &amp; Grid &amp; ScrapBook</td>\n",
       "      <td>ART_AND_DESIGN</td>\n",
       "      <td>4.1</td>\n",
       "      <td>159</td>\n",
       "      <td>19M</td>\n",
       "      <td>10,000+</td>\n",
       "      <td>Free</td>\n",
       "      <td>0</td>\n",
       "      <td>Everyone</td>\n",
       "      <td>Art &amp; Design</td>\n",
       "      <td>January 7, 2018</td>\n",
       "      <td>1.0.0</td>\n",
       "      <td>4.0.3 and up</td>\n",
       "    </tr>\n",
       "    <tr>\n",
       "      <th>1</th>\n",
       "      <td>Coloring book moana</td>\n",
       "      <td>ART_AND_DESIGN</td>\n",
       "      <td>3.9</td>\n",
       "      <td>967</td>\n",
       "      <td>14M</td>\n",
       "      <td>500,000+</td>\n",
       "      <td>Free</td>\n",
       "      <td>0</td>\n",
       "      <td>Everyone</td>\n",
       "      <td>Art &amp; Design;Pretend Play</td>\n",
       "      <td>January 15, 2018</td>\n",
       "      <td>2.0.0</td>\n",
       "      <td>4.0.3 and up</td>\n",
       "    </tr>\n",
       "    <tr>\n",
       "      <th>2</th>\n",
       "      <td>U Launcher Lite – FREE Live Cool Themes, Hide ...</td>\n",
       "      <td>ART_AND_DESIGN</td>\n",
       "      <td>4.7</td>\n",
       "      <td>87510</td>\n",
       "      <td>8.7M</td>\n",
       "      <td>5,000,000+</td>\n",
       "      <td>Free</td>\n",
       "      <td>0</td>\n",
       "      <td>Everyone</td>\n",
       "      <td>Art &amp; Design</td>\n",
       "      <td>August 1, 2018</td>\n",
       "      <td>1.2.4</td>\n",
       "      <td>4.0.3 and up</td>\n",
       "    </tr>\n",
       "    <tr>\n",
       "      <th>3</th>\n",
       "      <td>Sketch - Draw &amp; Paint</td>\n",
       "      <td>ART_AND_DESIGN</td>\n",
       "      <td>4.5</td>\n",
       "      <td>215644</td>\n",
       "      <td>25M</td>\n",
       "      <td>50,000,000+</td>\n",
       "      <td>Free</td>\n",
       "      <td>0</td>\n",
       "      <td>Teen</td>\n",
       "      <td>Art &amp; Design</td>\n",
       "      <td>June 8, 2018</td>\n",
       "      <td>Varies with device</td>\n",
       "      <td>4.2 and up</td>\n",
       "    </tr>\n",
       "    <tr>\n",
       "      <th>4</th>\n",
       "      <td>Pixel Draw - Number Art Coloring Book</td>\n",
       "      <td>ART_AND_DESIGN</td>\n",
       "      <td>4.3</td>\n",
       "      <td>967</td>\n",
       "      <td>2.8M</td>\n",
       "      <td>100,000+</td>\n",
       "      <td>Free</td>\n",
       "      <td>0</td>\n",
       "      <td>Everyone</td>\n",
       "      <td>Art &amp; Design;Creativity</td>\n",
       "      <td>June 20, 2018</td>\n",
       "      <td>1.1</td>\n",
       "      <td>4.4 and up</td>\n",
       "    </tr>\n",
       "  </tbody>\n",
       "</table>\n",
       "</div>"
      ],
      "text/plain": [
       "                                                 App        Category  Rating  \\\n",
       "0     Photo Editor & Candy Camera & Grid & ScrapBook  ART_AND_DESIGN     4.1   \n",
       "1                                Coloring book moana  ART_AND_DESIGN     3.9   \n",
       "2  U Launcher Lite – FREE Live Cool Themes, Hide ...  ART_AND_DESIGN     4.7   \n",
       "3                              Sketch - Draw & Paint  ART_AND_DESIGN     4.5   \n",
       "4              Pixel Draw - Number Art Coloring Book  ART_AND_DESIGN     4.3   \n",
       "\n",
       "  Reviews  Size     Installs  Type Price Content Rating  \\\n",
       "0     159   19M      10,000+  Free     0       Everyone   \n",
       "1     967   14M     500,000+  Free     0       Everyone   \n",
       "2   87510  8.7M   5,000,000+  Free     0       Everyone   \n",
       "3  215644   25M  50,000,000+  Free     0           Teen   \n",
       "4     967  2.8M     100,000+  Free     0       Everyone   \n",
       "\n",
       "                      Genres      Last Updated         Current Ver  \\\n",
       "0               Art & Design   January 7, 2018               1.0.0   \n",
       "1  Art & Design;Pretend Play  January 15, 2018               2.0.0   \n",
       "2               Art & Design    August 1, 2018               1.2.4   \n",
       "3               Art & Design      June 8, 2018  Varies with device   \n",
       "4    Art & Design;Creativity     June 20, 2018                 1.1   \n",
       "\n",
       "    Android Ver  \n",
       "0  4.0.3 and up  \n",
       "1  4.0.3 and up  \n",
       "2  4.0.3 and up  \n",
       "3    4.2 and up  \n",
       "4    4.4 and up  "
      ]
     },
     "execution_count": 63,
     "metadata": {},
     "output_type": "execute_result"
    }
   ],
   "source": [
    "playstore.head()"
   ]
  },
  {
   "cell_type": "markdown",
   "metadata": {},
   "source": [
    "**Data Cleansing** "
   ]
  },
  {
   "cell_type": "markdown",
   "metadata": {},
   "source": [
    "**_Task 1:_** Hapus data yang duplikat berdasarkan kolom App, dengan tetap keep data pertama (hint : gunakan parameter subset)"
   ]
  },
  {
   "cell_type": "code",
   "execution_count": 64,
   "metadata": {
    "ExecuteTime": {
     "end_time": "2021-02-02T10:00:43.408513Z",
     "start_time": "2021-02-02T10:00:43.384541Z"
    }
   },
   "outputs": [],
   "source": [
    "playstore.drop_duplicates(subset='App', keep='first', inplace=True)"
   ]
  },
  {
   "cell_type": "markdown",
   "metadata": {},
   "source": [
    "Bagian ini untuk menghapus row 10472 karena nilai data tersebut tidak tersimpan pada kolom yang benar"
   ]
  },
  {
   "cell_type": "code",
   "execution_count": 65,
   "metadata": {
    "ExecuteTime": {
     "end_time": "2021-02-02T10:01:18.760162Z",
     "start_time": "2021-02-02T10:01:18.747974Z"
    }
   },
   "outputs": [],
   "source": [
    "playstore.drop([10472], inplace=True)"
   ]
  },
  {
   "cell_type": "markdown",
   "metadata": {},
   "source": [
    "**_Task 2:_** Cek tipe data kolom Category. Jika masih tersimpan dengan format tipe data yang salah, ubah ke tipe data yang sesuai\n"
   ]
  },
  {
   "cell_type": "code",
   "execution_count": 66,
   "metadata": {
    "scrolled": true
   },
   "outputs": [
    {
     "data": {
      "text/plain": [
       "App                object\n",
       "Category           object\n",
       "Rating            float64\n",
       "Reviews            object\n",
       "Size               object\n",
       "Installs           object\n",
       "Type               object\n",
       "Price              object\n",
       "Content Rating     object\n",
       "Genres             object\n",
       "Last Updated       object\n",
       "Current Ver        object\n",
       "Android Ver        object\n",
       "dtype: object"
      ]
     },
     "execution_count": 66,
     "metadata": {},
     "output_type": "execute_result"
    }
   ],
   "source": [
    "playstore.dtypes"
   ]
  },
  {
   "cell_type": "code",
   "execution_count": 67,
   "metadata": {},
   "outputs": [
    {
     "data": {
      "text/plain": [
       "array(['ART_AND_DESIGN', 'AUTO_AND_VEHICLES', 'BEAUTY',\n",
       "       'BOOKS_AND_REFERENCE', 'BUSINESS', 'COMICS', 'COMMUNICATION',\n",
       "       'DATING', 'EDUCATION', 'ENTERTAINMENT', 'EVENTS', 'FINANCE',\n",
       "       'FOOD_AND_DRINK', 'HEALTH_AND_FITNESS', 'HOUSE_AND_HOME',\n",
       "       'LIBRARIES_AND_DEMO', 'LIFESTYLE', 'GAME', 'FAMILY', 'MEDICAL',\n",
       "       'SOCIAL', 'SHOPPING', 'PHOTOGRAPHY', 'SPORTS', 'TRAVEL_AND_LOCAL',\n",
       "       'TOOLS', 'PERSONALIZATION', 'PRODUCTIVITY', 'PARENTING', 'WEATHER',\n",
       "       'VIDEO_PLAYERS', 'NEWS_AND_MAGAZINES', 'MAPS_AND_NAVIGATION'],\n",
       "      dtype=object)"
      ]
     },
     "execution_count": 67,
     "metadata": {},
     "output_type": "execute_result"
    }
   ],
   "source": [
    "playstore[\"Category\"].unique()"
   ]
  },
  {
   "cell_type": "code",
   "execution_count": 68,
   "metadata": {},
   "outputs": [],
   "source": [
    "playstore[\"Category\"] = playstore[\"Category\"].astype(\"category\")"
   ]
  },
  {
   "cell_type": "code",
   "execution_count": 69,
   "metadata": {
    "ExecuteTime": {
     "end_time": "2021-02-02T10:03:32.164554Z",
     "start_time": "2021-02-02T10:03:32.153250Z"
    }
   },
   "outputs": [
    {
     "data": {
      "text/plain": [
       "App                 object\n",
       "Category          category\n",
       "Rating             float64\n",
       "Reviews             object\n",
       "Size                object\n",
       "Installs            object\n",
       "Type                object\n",
       "Price               object\n",
       "Content Rating      object\n",
       "Genres              object\n",
       "Last Updated        object\n",
       "Current Ver         object\n",
       "Android Ver         object\n",
       "dtype: object"
      ]
     },
     "execution_count": 69,
     "metadata": {},
     "output_type": "execute_result"
    }
   ],
   "source": [
    "playstore.dtypes"
   ]
  },
  {
   "cell_type": "markdown",
   "metadata": {},
   "source": [
    "**_Task 3:_** Pada kolom Installs Buang tanda koma(,) dan tanda tambah(+) kemudian ubah tipe data menjadi integer"
   ]
  },
  {
   "cell_type": "code",
   "execution_count": 71,
   "metadata": {
    "ExecuteTime": {
     "end_time": "2021-02-02T10:16:20.985521Z",
     "start_time": "2021-02-02T10:16:20.969640Z"
    }
   },
   "outputs": [],
   "source": [
    "playstore.Installs = playstore.Installs.apply(lambda x: x.replace(',',''))\n",
    "playstore.Installs = playstore.Installs.apply(lambda x: x.replace('+',''))"
   ]
  },
  {
   "cell_type": "markdown",
   "metadata": {},
   "source": [
    "Bagian ini untuk merapikan kolom Size, Anda tidak perlu mengubah apapun di bagian ini"
   ]
  },
  {
   "cell_type": "code",
   "execution_count": 72,
   "metadata": {
    "ExecuteTime": {
     "end_time": "2021-02-02T10:17:51.003771Z",
     "start_time": "2021-02-02T10:17:50.934201Z"
    }
   },
   "outputs": [],
   "source": [
    "playstore['Size'].replace('Varies with device', np.nan, inplace = True ) \n",
    "playstore.Size = (playstore.Size.replace(r'[kM]+$', '', regex=True).astype(float) * \\\n",
    "             playstore.Size.str.extract(r'[\\d\\.]+([kM]+)', expand=False)\n",
    "            .fillna(1)\n",
    "            .replace(['k','M'], [10**3, 10**6]).astype(int))\n",
    "playstore['Size'].fillna(playstore.groupby('Category')['Size'].transform('mean'),inplace = True)\n"
   ]
  },
  {
   "cell_type": "markdown",
   "metadata": {},
   "source": [
    "**_Task 4:_** Pada kolom Price, buang karakater $ pada nilai Price lalu ubah tipe datanya menjadi float"
   ]
  },
  {
   "cell_type": "code",
   "execution_count": 73,
   "metadata": {
    "ExecuteTime": {
     "end_time": "2021-02-02T10:17:51.850791Z",
     "start_time": "2021-02-02T10:17:51.831652Z"
    }
   },
   "outputs": [],
   "source": [
    "playstore.Price = playstore.Price.apply(lambda x: x.replace('$',''))\n",
    "playstore['Price'] = playstore['Price'].astype('float')\n"
   ]
  },
  {
   "cell_type": "markdown",
   "metadata": {},
   "source": [
    "Ubah tipe data Reviews, Size, Installs ke dalam tipe data integer"
   ]
  },
  {
   "cell_type": "code",
   "execution_count": 76,
   "metadata": {
    "ExecuteTime": {
     "end_time": "2021-02-02T10:17:53.379441Z",
     "start_time": "2021-02-02T10:17:53.359741Z"
    }
   },
   "outputs": [],
   "source": [
    "##code here\n",
    "playstore[[\"Reviews\",\"Size\",\"Installs\"]] = playstore[[\"Reviews\",\"Size\",\"Installs\"]].astype(\"int64\")"
   ]
  },
  {
   "cell_type": "code",
   "execution_count": 77,
   "metadata": {
    "scrolled": true
   },
   "outputs": [
    {
     "data": {
      "text/plain": [
       "App                 object\n",
       "Category          category\n",
       "Rating             float64\n",
       "Reviews              int64\n",
       "Size                 int64\n",
       "Installs             int64\n",
       "Type                object\n",
       "Price              float64\n",
       "Content Rating      object\n",
       "Genres              object\n",
       "Last Updated        object\n",
       "Current Ver         object\n",
       "Android Ver         object\n",
       "dtype: object"
      ]
     },
     "execution_count": 77,
     "metadata": {},
     "output_type": "execute_result"
    }
   ],
   "source": [
    "playstore.dtypes"
   ]
  },
  {
   "cell_type": "code",
   "execution_count": 78,
   "metadata": {},
   "outputs": [
    {
     "data": {
      "text/html": [
       "<div>\n",
       "<style scoped>\n",
       "    .dataframe tbody tr th:only-of-type {\n",
       "        vertical-align: middle;\n",
       "    }\n",
       "\n",
       "    .dataframe tbody tr th {\n",
       "        vertical-align: top;\n",
       "    }\n",
       "\n",
       "    .dataframe thead th {\n",
       "        text-align: right;\n",
       "    }\n",
       "</style>\n",
       "<table border=\"1\" class=\"dataframe\">\n",
       "  <thead>\n",
       "    <tr style=\"text-align: right;\">\n",
       "      <th></th>\n",
       "      <th>App</th>\n",
       "      <th>Category</th>\n",
       "      <th>Rating</th>\n",
       "      <th>Reviews</th>\n",
       "      <th>Size</th>\n",
       "      <th>Installs</th>\n",
       "      <th>Type</th>\n",
       "      <th>Price</th>\n",
       "      <th>Content Rating</th>\n",
       "      <th>Genres</th>\n",
       "      <th>Last Updated</th>\n",
       "      <th>Current Ver</th>\n",
       "      <th>Android Ver</th>\n",
       "    </tr>\n",
       "  </thead>\n",
       "  <tbody>\n",
       "    <tr>\n",
       "      <th>0</th>\n",
       "      <td>Photo Editor &amp; Candy Camera &amp; Grid &amp; ScrapBook</td>\n",
       "      <td>ART_AND_DESIGN</td>\n",
       "      <td>4.1</td>\n",
       "      <td>159</td>\n",
       "      <td>19000000</td>\n",
       "      <td>10000</td>\n",
       "      <td>Free</td>\n",
       "      <td>0.0</td>\n",
       "      <td>Everyone</td>\n",
       "      <td>Art &amp; Design</td>\n",
       "      <td>January 7, 2018</td>\n",
       "      <td>1.0.0</td>\n",
       "      <td>4.0.3 and up</td>\n",
       "    </tr>\n",
       "    <tr>\n",
       "      <th>1</th>\n",
       "      <td>Coloring book moana</td>\n",
       "      <td>ART_AND_DESIGN</td>\n",
       "      <td>3.9</td>\n",
       "      <td>967</td>\n",
       "      <td>14000000</td>\n",
       "      <td>500000</td>\n",
       "      <td>Free</td>\n",
       "      <td>0.0</td>\n",
       "      <td>Everyone</td>\n",
       "      <td>Art &amp; Design;Pretend Play</td>\n",
       "      <td>January 15, 2018</td>\n",
       "      <td>2.0.0</td>\n",
       "      <td>4.0.3 and up</td>\n",
       "    </tr>\n",
       "    <tr>\n",
       "      <th>2</th>\n",
       "      <td>U Launcher Lite – FREE Live Cool Themes, Hide ...</td>\n",
       "      <td>ART_AND_DESIGN</td>\n",
       "      <td>4.7</td>\n",
       "      <td>87510</td>\n",
       "      <td>8700000</td>\n",
       "      <td>5000000</td>\n",
       "      <td>Free</td>\n",
       "      <td>0.0</td>\n",
       "      <td>Everyone</td>\n",
       "      <td>Art &amp; Design</td>\n",
       "      <td>August 1, 2018</td>\n",
       "      <td>1.2.4</td>\n",
       "      <td>4.0.3 and up</td>\n",
       "    </tr>\n",
       "    <tr>\n",
       "      <th>3</th>\n",
       "      <td>Sketch - Draw &amp; Paint</td>\n",
       "      <td>ART_AND_DESIGN</td>\n",
       "      <td>4.5</td>\n",
       "      <td>215644</td>\n",
       "      <td>25000000</td>\n",
       "      <td>50000000</td>\n",
       "      <td>Free</td>\n",
       "      <td>0.0</td>\n",
       "      <td>Teen</td>\n",
       "      <td>Art &amp; Design</td>\n",
       "      <td>June 8, 2018</td>\n",
       "      <td>Varies with device</td>\n",
       "      <td>4.2 and up</td>\n",
       "    </tr>\n",
       "    <tr>\n",
       "      <th>4</th>\n",
       "      <td>Pixel Draw - Number Art Coloring Book</td>\n",
       "      <td>ART_AND_DESIGN</td>\n",
       "      <td>4.3</td>\n",
       "      <td>967</td>\n",
       "      <td>2800000</td>\n",
       "      <td>100000</td>\n",
       "      <td>Free</td>\n",
       "      <td>0.0</td>\n",
       "      <td>Everyone</td>\n",
       "      <td>Art &amp; Design;Creativity</td>\n",
       "      <td>June 20, 2018</td>\n",
       "      <td>1.1</td>\n",
       "      <td>4.4 and up</td>\n",
       "    </tr>\n",
       "  </tbody>\n",
       "</table>\n",
       "</div>"
      ],
      "text/plain": [
       "                                                 App        Category  Rating  \\\n",
       "0     Photo Editor & Candy Camera & Grid & ScrapBook  ART_AND_DESIGN     4.1   \n",
       "1                                Coloring book moana  ART_AND_DESIGN     3.9   \n",
       "2  U Launcher Lite – FREE Live Cool Themes, Hide ...  ART_AND_DESIGN     4.7   \n",
       "3                              Sketch - Draw & Paint  ART_AND_DESIGN     4.5   \n",
       "4              Pixel Draw - Number Art Coloring Book  ART_AND_DESIGN     4.3   \n",
       "\n",
       "   Reviews      Size  Installs  Type  Price Content Rating  \\\n",
       "0      159  19000000     10000  Free    0.0       Everyone   \n",
       "1      967  14000000    500000  Free    0.0       Everyone   \n",
       "2    87510   8700000   5000000  Free    0.0       Everyone   \n",
       "3   215644  25000000  50000000  Free    0.0           Teen   \n",
       "4      967   2800000    100000  Free    0.0       Everyone   \n",
       "\n",
       "                      Genres      Last Updated         Current Ver  \\\n",
       "0               Art & Design   January 7, 2018               1.0.0   \n",
       "1  Art & Design;Pretend Play  January 15, 2018               2.0.0   \n",
       "2               Art & Design    August 1, 2018               1.2.4   \n",
       "3               Art & Design      June 8, 2018  Varies with device   \n",
       "4    Art & Design;Creativity     June 20, 2018                 1.1   \n",
       "\n",
       "    Android Ver  \n",
       "0  4.0.3 and up  \n",
       "1  4.0.3 and up  \n",
       "2  4.0.3 and up  \n",
       "3    4.2 and up  \n",
       "4    4.4 and up  "
      ]
     },
     "execution_count": 78,
     "metadata": {},
     "output_type": "execute_result"
    }
   ],
   "source": [
    "playstore.head()"
   ]
  },
  {
   "cell_type": "markdown",
   "metadata": {},
   "source": [
    "## Data Wrangling"
   ]
  },
  {
   "cell_type": "code",
   "execution_count": 79,
   "metadata": {
    "ExecuteTime": {
     "end_time": "2021-02-02T10:18:50.436751Z",
     "start_time": "2021-02-02T10:18:50.425327Z"
    }
   },
   "outputs": [],
   "source": [
    "df2 = playstore.copy()"
   ]
  },
  {
   "cell_type": "markdown",
   "metadata": {},
   "source": [
    "**_Task 5:_** Dataframe top_category dibuat untuk menyimpan frekuensi aplikasi untuk setiap Category. \n",
    "Gunakan crosstab untuk menghitung frekuensi aplikasi di setiap category kemudian gunakan `Jumlah`\n",
    "sebagai nama kolom dan urutkan nilai frekuensi dari nilai yang paling banyak. Terakhir reset index dari dataframe top_category."
   ]
  },
  {
   "cell_type": "code",
   "execution_count": 279,
   "metadata": {},
   "outputs": [],
   "source": [
    "top_category = pd.crosstab(\n",
    "    index = df2[\"Category\"], #parameter wajib\n",
    "    columns = \"Jumlah\" #parameter wajib\n",
    ").sort_values(by = \"Jumlah\", ascending = False).head(5)"
   ]
  },
  {
   "cell_type": "code",
   "execution_count": 280,
   "metadata": {
    "ExecuteTime": {
     "end_time": "2021-02-02T10:22:20.387102Z",
     "start_time": "2021-02-02T10:22:20.334148Z"
    }
   },
   "outputs": [
    {
     "data": {
      "text/html": [
       "<div>\n",
       "<style scoped>\n",
       "    .dataframe tbody tr th:only-of-type {\n",
       "        vertical-align: middle;\n",
       "    }\n",
       "\n",
       "    .dataframe tbody tr th {\n",
       "        vertical-align: top;\n",
       "    }\n",
       "\n",
       "    .dataframe thead th {\n",
       "        text-align: right;\n",
       "    }\n",
       "</style>\n",
       "<table border=\"1\" class=\"dataframe\">\n",
       "  <thead>\n",
       "    <tr style=\"text-align: right;\">\n",
       "      <th>col_0</th>\n",
       "      <th>Jumlah</th>\n",
       "    </tr>\n",
       "    <tr>\n",
       "      <th>Category</th>\n",
       "      <th></th>\n",
       "    </tr>\n",
       "  </thead>\n",
       "  <tbody>\n",
       "    <tr>\n",
       "      <th>FAMILY</th>\n",
       "      <td>1832</td>\n",
       "    </tr>\n",
       "    <tr>\n",
       "      <th>GAME</th>\n",
       "      <td>959</td>\n",
       "    </tr>\n",
       "    <tr>\n",
       "      <th>TOOLS</th>\n",
       "      <td>827</td>\n",
       "    </tr>\n",
       "    <tr>\n",
       "      <th>BUSINESS</th>\n",
       "      <td>420</td>\n",
       "    </tr>\n",
       "    <tr>\n",
       "      <th>MEDICAL</th>\n",
       "      <td>395</td>\n",
       "    </tr>\n",
       "  </tbody>\n",
       "</table>\n",
       "</div>"
      ],
      "text/plain": [
       "col_0     Jumlah\n",
       "Category        \n",
       "FAMILY      1832\n",
       "GAME         959\n",
       "TOOLS        827\n",
       "BUSINESS     420\n",
       "MEDICAL      395"
      ]
     },
     "execution_count": 280,
     "metadata": {},
     "output_type": "execute_result"
    }
   ],
   "source": [
    "top_category "
   ]
  },
  {
   "cell_type": "markdown",
   "metadata": {},
   "source": [
    "**_Task 6:_** Ini adalah bagian untuk melengkapi konten value box \n",
    "most category mengambil nama category paling banyak mengacu pada dataframe `top_category`\n",
    "total mengambil frekuensi/jumlah category paling banyak mengacu pada dataframe `top_category`"
   ]
  },
  {
   "cell_type": "code",
   "execution_count": 309,
   "metadata": {
    "ExecuteTime": {
     "end_time": "2021-02-02T10:25:55.268573Z",
     "start_time": "2021-02-02T10:25:55.257944Z"
    }
   },
   "outputs": [
    {
     "data": {
      "text/plain": [
       "1832"
      ]
     },
     "execution_count": 309,
     "metadata": {},
     "output_type": "execute_result"
    }
   ],
   "source": [
    "most_categories = top_category.head(1)\n",
    "rows=['FAMILY']\n",
    "\n",
    "jumlah = most_categories.loc['FAMILY', 'Jumlah']\n",
    "\n",
    "jumlah"
   ]
  },
  {
   "cell_type": "markdown",
   "metadata": {},
   "source": [
    "`rev_table` adalah tabel yang berisi 10 aplikasi yang paling banyak direview oleh pengguna.\n",
    "Silahkan melakukan agregasi data yang tepat menggunakan `groupby` untuk menampilkan 10 aplikasi yang diurutkan berdasarkan jumlah Review pengguna. \n",
    "\n",
    "Tabel yang ditampilkan terdiri dari 4 kolom yaitu nama Category, nama App, total Reviews, dan rata-rata Rating.\n",
    "Pindahkan kode wrangling yang disimpan dalam variable `rev_table` pada `blank code` yang telah di chaining dengan kode `.to_html`."
   ]
  },
  {
   "cell_type": "code",
   "execution_count": 96,
   "metadata": {
    "ExecuteTime": {
     "end_time": "2021-02-02T10:32:27.727779Z",
     "start_time": "2021-02-02T10:32:24.299980Z"
    }
   },
   "outputs": [
    {
     "data": {
      "text/html": [
       "<div>\n",
       "<style scoped>\n",
       "    .dataframe tbody tr th:only-of-type {\n",
       "        vertical-align: middle;\n",
       "    }\n",
       "\n",
       "    .dataframe tbody tr th {\n",
       "        vertical-align: top;\n",
       "    }\n",
       "\n",
       "    .dataframe thead th {\n",
       "        text-align: right;\n",
       "    }\n",
       "</style>\n",
       "<table border=\"1\" class=\"dataframe\">\n",
       "  <thead>\n",
       "    <tr style=\"text-align: right;\">\n",
       "      <th></th>\n",
       "      <th>Category</th>\n",
       "      <th>App</th>\n",
       "      <th>Reviews</th>\n",
       "      <th>Rating</th>\n",
       "    </tr>\n",
       "  </thead>\n",
       "  <tbody>\n",
       "    <tr>\n",
       "      <th>0</th>\n",
       "      <td>SOCIAL</td>\n",
       "      <td>Facebook</td>\n",
       "      <td>78158306</td>\n",
       "      <td>4.1</td>\n",
       "    </tr>\n",
       "    <tr>\n",
       "      <th>1</th>\n",
       "      <td>COMMUNICATION</td>\n",
       "      <td>WhatsApp Messenger</td>\n",
       "      <td>69119316</td>\n",
       "      <td>4.4</td>\n",
       "    </tr>\n",
       "    <tr>\n",
       "      <th>2</th>\n",
       "      <td>SOCIAL</td>\n",
       "      <td>Instagram</td>\n",
       "      <td>66577313</td>\n",
       "      <td>4.5</td>\n",
       "    </tr>\n",
       "    <tr>\n",
       "      <th>3</th>\n",
       "      <td>COMMUNICATION</td>\n",
       "      <td>Messenger – Text and Video Chat for Free</td>\n",
       "      <td>56642847</td>\n",
       "      <td>4.0</td>\n",
       "    </tr>\n",
       "    <tr>\n",
       "      <th>4</th>\n",
       "      <td>GAME</td>\n",
       "      <td>Clash of Clans</td>\n",
       "      <td>44891723</td>\n",
       "      <td>4.6</td>\n",
       "    </tr>\n",
       "    <tr>\n",
       "      <th>5</th>\n",
       "      <td>TOOLS</td>\n",
       "      <td>Clean Master- Space Cleaner &amp; Antivirus</td>\n",
       "      <td>42916526</td>\n",
       "      <td>4.7</td>\n",
       "    </tr>\n",
       "    <tr>\n",
       "      <th>6</th>\n",
       "      <td>GAME</td>\n",
       "      <td>Subway Surfers</td>\n",
       "      <td>27722264</td>\n",
       "      <td>4.5</td>\n",
       "    </tr>\n",
       "    <tr>\n",
       "      <th>7</th>\n",
       "      <td>VIDEO_PLAYERS</td>\n",
       "      <td>YouTube</td>\n",
       "      <td>25655305</td>\n",
       "      <td>4.3</td>\n",
       "    </tr>\n",
       "    <tr>\n",
       "      <th>8</th>\n",
       "      <td>TOOLS</td>\n",
       "      <td>Security Master - Antivirus, VPN, AppLock, Boo...</td>\n",
       "      <td>24900999</td>\n",
       "      <td>4.7</td>\n",
       "    </tr>\n",
       "    <tr>\n",
       "      <th>9</th>\n",
       "      <td>GAME</td>\n",
       "      <td>Clash Royale</td>\n",
       "      <td>23133508</td>\n",
       "      <td>4.6</td>\n",
       "    </tr>\n",
       "  </tbody>\n",
       "</table>\n",
       "</div>"
      ],
      "text/plain": [
       "        Category                                                App   Reviews  \\\n",
       "0         SOCIAL                                           Facebook  78158306   \n",
       "1  COMMUNICATION                                 WhatsApp Messenger  69119316   \n",
       "2         SOCIAL                                          Instagram  66577313   \n",
       "3  COMMUNICATION           Messenger – Text and Video Chat for Free  56642847   \n",
       "4           GAME                                     Clash of Clans  44891723   \n",
       "5          TOOLS            Clean Master- Space Cleaner & Antivirus  42916526   \n",
       "6           GAME                                     Subway Surfers  27722264   \n",
       "7  VIDEO_PLAYERS                                            YouTube  25655305   \n",
       "8          TOOLS  Security Master - Antivirus, VPN, AppLock, Boo...  24900999   \n",
       "9           GAME                                       Clash Royale  23133508   \n",
       "\n",
       "   Rating  \n",
       "0     4.1  \n",
       "1     4.4  \n",
       "2     4.5  \n",
       "3     4.0  \n",
       "4     4.6  \n",
       "5     4.7  \n",
       "6     4.5  \n",
       "7     4.3  \n",
       "8     4.7  \n",
       "9     4.6  "
      ]
     },
     "execution_count": 96,
     "metadata": {},
     "output_type": "execute_result"
    }
   ],
   "source": [
    "df2.groupby(['Category','App']).agg({'Reviews' : 'sum',\n",
    "                                                 'Rating' : 'mean'}).dropna(subset=['Rating']).sort_values('Reviews',ascending=False).reset_index().head(10)"
   ]
  },
  {
   "cell_type": "code",
   "execution_count": 97,
   "metadata": {},
   "outputs": [],
   "source": [
    "rev_table = df2.groupby(['Category','App']).agg({'Reviews' : 'sum',\n",
    "                                                 'Rating' : 'mean'}).dropna(subset=['Rating']).sort_values('Reviews',ascending=False).reset_index().head(10)"
   ]
  },
  {
   "cell_type": "markdown",
   "metadata": {},
   "source": [
    "Apabila menuliskan kode program yang tepat maka hasil wrangling adalah sebagai berikut :"
   ]
  },
  {
   "cell_type": "code",
   "execution_count": 98,
   "metadata": {
    "ExecuteTime": {
     "end_time": "2021-02-02T10:32:37.483995Z",
     "start_time": "2021-02-02T10:32:37.467075Z"
    }
   },
   "outputs": [
    {
     "data": {
      "text/html": [
       "<div>\n",
       "<style scoped>\n",
       "    .dataframe tbody tr th:only-of-type {\n",
       "        vertical-align: middle;\n",
       "    }\n",
       "\n",
       "    .dataframe tbody tr th {\n",
       "        vertical-align: top;\n",
       "    }\n",
       "\n",
       "    .dataframe thead th {\n",
       "        text-align: right;\n",
       "    }\n",
       "</style>\n",
       "<table border=\"1\" class=\"dataframe\">\n",
       "  <thead>\n",
       "    <tr style=\"text-align: right;\">\n",
       "      <th></th>\n",
       "      <th>Category</th>\n",
       "      <th>App</th>\n",
       "      <th>Reviews</th>\n",
       "      <th>Rating</th>\n",
       "    </tr>\n",
       "  </thead>\n",
       "  <tbody>\n",
       "    <tr>\n",
       "      <th>0</th>\n",
       "      <td>SOCIAL</td>\n",
       "      <td>Facebook</td>\n",
       "      <td>78158306</td>\n",
       "      <td>4.1</td>\n",
       "    </tr>\n",
       "    <tr>\n",
       "      <th>1</th>\n",
       "      <td>COMMUNICATION</td>\n",
       "      <td>WhatsApp Messenger</td>\n",
       "      <td>69119316</td>\n",
       "      <td>4.4</td>\n",
       "    </tr>\n",
       "    <tr>\n",
       "      <th>2</th>\n",
       "      <td>SOCIAL</td>\n",
       "      <td>Instagram</td>\n",
       "      <td>66577313</td>\n",
       "      <td>4.5</td>\n",
       "    </tr>\n",
       "    <tr>\n",
       "      <th>3</th>\n",
       "      <td>COMMUNICATION</td>\n",
       "      <td>Messenger – Text and Video Chat for Free</td>\n",
       "      <td>56642847</td>\n",
       "      <td>4.0</td>\n",
       "    </tr>\n",
       "    <tr>\n",
       "      <th>4</th>\n",
       "      <td>GAME</td>\n",
       "      <td>Clash of Clans</td>\n",
       "      <td>44891723</td>\n",
       "      <td>4.6</td>\n",
       "    </tr>\n",
       "    <tr>\n",
       "      <th>5</th>\n",
       "      <td>TOOLS</td>\n",
       "      <td>Clean Master- Space Cleaner &amp; Antivirus</td>\n",
       "      <td>42916526</td>\n",
       "      <td>4.7</td>\n",
       "    </tr>\n",
       "    <tr>\n",
       "      <th>6</th>\n",
       "      <td>GAME</td>\n",
       "      <td>Subway Surfers</td>\n",
       "      <td>27722264</td>\n",
       "      <td>4.5</td>\n",
       "    </tr>\n",
       "    <tr>\n",
       "      <th>7</th>\n",
       "      <td>VIDEO_PLAYERS</td>\n",
       "      <td>YouTube</td>\n",
       "      <td>25655305</td>\n",
       "      <td>4.3</td>\n",
       "    </tr>\n",
       "    <tr>\n",
       "      <th>8</th>\n",
       "      <td>TOOLS</td>\n",
       "      <td>Security Master - Antivirus, VPN, AppLock, Boo...</td>\n",
       "      <td>24900999</td>\n",
       "      <td>4.7</td>\n",
       "    </tr>\n",
       "    <tr>\n",
       "      <th>9</th>\n",
       "      <td>GAME</td>\n",
       "      <td>Clash Royale</td>\n",
       "      <td>23133508</td>\n",
       "      <td>4.6</td>\n",
       "    </tr>\n",
       "  </tbody>\n",
       "</table>\n",
       "</div>"
      ],
      "text/plain": [
       "        Category                                                App   Reviews  \\\n",
       "0         SOCIAL                                           Facebook  78158306   \n",
       "1  COMMUNICATION                                 WhatsApp Messenger  69119316   \n",
       "2         SOCIAL                                          Instagram  66577313   \n",
       "3  COMMUNICATION           Messenger – Text and Video Chat for Free  56642847   \n",
       "4           GAME                                     Clash of Clans  44891723   \n",
       "5          TOOLS            Clean Master- Space Cleaner & Antivirus  42916526   \n",
       "6           GAME                                     Subway Surfers  27722264   \n",
       "7  VIDEO_PLAYERS                                            YouTube  25655305   \n",
       "8          TOOLS  Security Master - Antivirus, VPN, AppLock, Boo...  24900999   \n",
       "9           GAME                                       Clash Royale  23133508   \n",
       "\n",
       "   Rating  \n",
       "0     4.1  \n",
       "1     4.4  \n",
       "2     4.5  \n",
       "3     4.0  \n",
       "4     4.6  \n",
       "5     4.7  \n",
       "6     4.5  \n",
       "7     4.3  \n",
       "8     4.7  \n",
       "9     4.6  "
      ]
     },
     "execution_count": 98,
     "metadata": {},
     "output_type": "execute_result"
    }
   ],
   "source": [
    "rev_table"
   ]
  },
  {
   "cell_type": "markdown",
   "metadata": {},
   "source": [
    "## Data Visualization"
   ]
  },
  {
   "cell_type": "markdown",
   "metadata": {},
   "source": [
    "**Membuat Bar Plot**"
   ]
  },
  {
   "cell_type": "markdown",
   "metadata": {},
   "source": [
    "**_Task 7:_** \n",
    "Lengkapi tahap agregasi untuk membuat dataframe yang mengelompokkan aplikasi berdasarkan Category.\n",
    "Buatlah bar plot dimana axis x adalah nama Category dan axis y adalah jumlah aplikasi pada setiap kategori, kemudian urutkan dari jumlah terbanyak"
   ]
  },
  {
   "cell_type": "code",
   "execution_count": 133,
   "metadata": {
    "ExecuteTime": {
     "end_time": "2021-02-02T10:37:53.665508Z",
     "start_time": "2021-02-02T10:37:52.980775Z"
    }
   },
   "outputs": [
    {
     "data": {
      "image/png": "[encoded data removed]",
      "text/plain": [
       "<Figure size 2400x900 with 1 Axes>"
      ]
     },
     "metadata": {},
     "output_type": "display_data"
    }
   ],
   "source": [
    "cat_order = df2.groupby('Category').agg({\n",
    "'App': 'count'\n",
    "}).rename({'Category': 'Total'}, axis=1).sort_values('App', ascending=False).head()\n",
    "\n",
    "X = cat_order['App']\n",
    "Y = cat_order.index\n",
    "my_colors = ['r', 'g', 'b', 'k', 'y', 'm', 'c']\n",
    "\n",
    "#This section creates a figure canvas\n",
    "fig = plt.figure(figsize=(8, 3), dpi=300)\n",
    "fig.add_subplot()\n",
    "\n",
    "#This section creates a horizontal bar plot\n",
    "plt.barh(Y, X, color=my_colors)\n",
    "\n",
    "#This section saves the plot as an image in png format\n",
    "plt.savefig('cat_order.png', bbox_inches=\"tight\")"
   ]
  },
  {
   "cell_type": "markdown",
   "metadata": {},
   "source": [
    "**Membuat Scatter Plot**"
   ]
  },
  {
   "cell_type": "markdown",
   "metadata": {},
   "source": [
    "**_Task 8:_** Buatlah scatter plot untuk menampilkan hubungan dan persebaran apalikasi dilihat dari Review vs Rating.\n",
    "Ukuran scatter menggambarkan berapa banyak pengguna yang telah menginstall aplikasi \n",
    "    "
   ]
  },
  {
   "cell_type": "code",
   "execution_count": 122,
   "metadata": {
    "scrolled": true
   },
   "outputs": [
    {
     "data": {
      "image/png": "[encoded data removed]",
      "text/plain": [
       "<Figure size 500x500 with 1 Axes>"
      ]
     },
     "metadata": {},
     "output_type": "display_data"
    }
   ],
   "source": [
    "X = df2['Reviews'].values # axis x\n",
    "Y = df2['Rating'].values # axis y\n",
    "area = playstore['Installs'].values/10000000 # ukuran besar/kecilnya lingkaran scatter plot\n",
    "fig = plt.figure(figsize=(5,5))\n",
    "fig.add_subplot()\n",
    "# isi nama method untuk scatter plot, variabel x, dan variabel y\n",
    "plt.scatter(x=X,y=Y, s=area, alpha=0.3)\n",
    "plt.xlabel('Reviews')\n",
    "plt.ylabel('Rating')\n",
    "plt.savefig('rev_rat.png',bbox_inches=\"tight\")"
   ]
  },
  {
   "cell_type": "markdown",
   "metadata": {},
   "source": [
    "**Membuat Histogram Size Distribution**"
   ]
  },
  {
   "cell_type": "markdown",
   "metadata": {},
   "source": [
    "**_Task 9:_** Buatlah sebuah histogram yang menggambarkan distribusi Size aplikasi dalam satuan Mb(Megabytes). Histogram yang terbentuk terbagi menjadi 100 bins"
   ]
  },
  {
   "cell_type": "code",
   "execution_count": 138,
   "metadata": {},
   "outputs": [
    {
     "data": {
      "image/png": "[encoded data removed]",
      "text/plain": [
       "<Figure size 500x500 with 1 Axes>"
      ]
     },
     "metadata": {},
     "output_type": "display_data"
    }
   ],
   "source": [
    "X=(df2['Size']/1000000).values\n",
    "fig = plt.figure(figsize=(5,5))\n",
    "fig.add_subplot()\n",
    "plt.hist(X,bins=100, density=True,  alpha=0.75)\n",
    "plt.xlabel('Size')\n",
    "plt.ylabel('Frequency')\n",
    "plt.savefig('hist_size.png',bbox_inches=\"tight\")"
   ]
  },
  {
   "cell_type": "code",
   "execution_count": 20,
   "metadata": {
    "ExecuteTime": {
     "end_time": "2021-02-02T10:44:25.038732Z",
     "start_time": "2021-02-02T10:44:24.670174Z"
    },
    "scrolled": false
   },
   "outputs": [
    {
     "data": {
      "text/plain": [
       "Text(0, 0.5, 'Frequency')"
      ]
     },
     "execution_count": 20,
     "metadata": {},
     "output_type": "execute_result"
    },
    {
     "data": {
      "image/png": "[encoded data removed]",
      "text/plain": [
       "<Figure size 360x360 with 1 Axes>"
      ]
     },
     "metadata": {
      "needs_background": "light"
     },
     "output_type": "display_data"
    }
   ],
   "source": [
    "X=(___________/1000000).values\n",
    "fig = plt.figure(figsize=(5,5))\n",
    "fig.add_subplot()\n",
    "plt._______(_____,bins=100, density=True,  alpha=0.75)\n",
    "plt.xlabel('Size')\n",
    "plt.ylabel('Frequency')\n",
    "plt.savefig('hist_size.png',bbox_inches=\"tight\")"
   ]
  },
  {
   "cell_type": "markdown",
   "metadata": {},
   "source": [
    "**_Task 10:_** Buatlah plot berdasarkan hasil analisis anda. Plot yang dibuat tidak diperbolehkan sama dengan plot yang sudah dicontohkan."
   ]
  },
  {
   "cell_type": "code",
   "execution_count": 156,
   "metadata": {},
   "outputs": [],
   "source": [
    "LUpdate = df2[\"Last Updated\"].astype(\"datetime64[ns]\")"
   ]
  },
  {
   "cell_type": "code",
   "execution_count": 273,
   "metadata": {
    "ExecuteTime": {
     "end_time": "2021-02-02T10:47:53.948656Z",
     "start_time": "2021-02-02T10:47:53.936544Z"
    }
   },
   "outputs": [
    {
     "data": {
      "image/png": "[encoded data removed]",
      "text/plain": [
       "<Figure size 640x480 with 1 Axes>"
      ]
     },
     "metadata": {},
     "output_type": "display_data"
    },
    {
     "data": {
      "text/plain": [
       "<Figure size 640x480 with 0 Axes>"
      ]
     },
     "metadata": {},
     "output_type": "display_data"
    }
   ],
   "source": [
    "top_category2 = pd.crosstab(\n",
    "    index = LUpdate.dt.to_period(\"Y\"), #parameter wadata:image/png;base64,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jib\n",
    "    columns = df2[\"Content Rating\"] #parameter wajib\n",
    ").head(25)\n",
    "\n",
    "top_category2.plot();\n",
    "plt.xlabel('Tahun')\n",
    "plt.ylabel('Sum')\n",
    "plt.grid(True)\n",
    "plt.show()\n",
    "fig = plt.figure()\n",
    "fig.savefig('plot.png')"
   ]
  },
  {
   "cell_type": "code",
   "execution_count": null,
   "metadata": {},
   "outputs": [],
   "source": []
  }
 ],
 "metadata": {
  "kernelspec": {
   "display_name": "capstone-flask",
   "language": "python",
   "name": "capstone-flask"
  },
  "language_info": {
   "codemirror_mode": {
    "name": "ipython",
    "version": 3
   },
   "file_extension": ".py",
   "mimetype": "text/x-python",
   "name": "python",
   "nbconvert_exporter": "python",
   "pygments_lexer": "ipython3",
   "version": "3.10.11"
  },
  "toc": {
   "base_numbering": 1,
   "nav_menu": {},
   "number_sections": true,
   "sideBar": true,
   "skip_h1_title": false,
   "title_cell": "Table of Contents",
   "title_sidebar": "Contents",
   "toc_cell": false,
   "toc_position": {},
   "toc_section_display": true,
   "toc_window_display": false
  }
 },
 "nbformat": 4,
 "nbformat_minor": 4
}
